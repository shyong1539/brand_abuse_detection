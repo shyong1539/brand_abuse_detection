{
 "cells": [
  {
   "cell_type": "markdown",
   "metadata": {},
   "source": [
    "# Globals and Imports"
   ]
  },
  {
   "cell_type": "code",
   "execution_count": null,
   "metadata": {},
   "outputs": [],
   "source": [
    "import os\n",
    "import sys\n",
    "import re\n",
    "import whois\n",
    "# print sys.executable\n",
    "# print sys.path\n",
    "# from jupyter_core.paths import jupyter_data_dir\n",
    "# print(jupyter_data_dir())\n",
    "import dnstwist\n",
    "import string\n",
    "from tld import get_tld\n",
    "from email import parser, message_from_string\n",
    "from dns import resolver"
   ]
  },
  {
   "cell_type": "markdown",
   "metadata": {},
   "source": [
    "# Helper Functions"
   ]
  },
  {
   "cell_type": "code",
   "execution_count": 67,
   "metadata": {},
   "outputs": [],
   "source": [
    "# Parse email address\n",
    "def parse_email(text):\n",
    "    text = text.decode('utf-8')\n",
    "    match = re.findall(r'[\\w\\.-]+@[\\w\\.-]+', text, re.UNICODE)\n",
    "    return match\n",
    "\n",
    "# Determine if a host domain is good \n",
    "def is_domain_legit(url):\n",
    "    good_domain = False\n",
    "    while url.find('.') > 0:\n",
    "        try:\n",
    "            answers = resolver.query(url, rdtype=\"SOA\")\n",
    "            for rdata in answers:\n",
    "                # print (rdata)\n",
    "                good_domain = True\n",
    "            break\n",
    "        except:\n",
    "            url = url[url.find('.') + 1:]\n",
    "    return good_domain\n",
    "\n",
    "# Determine if a domain is spoofed\n",
    "def is_domain_spoofed(brands, target):\n",
    "    domain_spoofed = False\n",
    "    cwd = os.getcwd() + '/data/'\n",
    "    for brand in brands:\n",
    "        with open (cwd + brand + '.fuzz', 'r') as rf:\n",
    "            lines = rf.readlines()\n",
    "            domain = lines[0]\n",
    "            for line in lines[1:]:\n",
    "                if target.encode('utf-8') in line:\n",
    "                    domain_spoofed = True\n",
    "                    break\n",
    "        if domain_spoofed:\n",
    "            break\n",
    "    return domain_spoofed, domain\n",
    "\n",
    "# TLD Top Level Domain\n",
    "def get_top_level_domain(url):\n",
    "    res = get_tld(\"http://www.yahoo.co.jp\", as_object=True)\n",
    "    #     print (res)\n",
    "    #     print (res.domain)\n",
    "    #     print (res.subdomain)\n",
    "    print (res.tld)\n",
    "    #     print (res.suffix)\n",
    "    return res.tld\n"
   ]
  },
  {
   "cell_type": "markdown",
   "metadata": {},
   "source": [
    "# Instantiate an Email Object with Email Header Texts"
   ]
  },
  {
   "cell_type": "code",
   "execution_count": 68,
   "metadata": {},
   "outputs": [
    {
     "name": "stdout",
     "output_type": "stream",
     "text": [
      "From nobody Wed May 23 13:16:28 2018\n",
      "content-class: urn:content-classes:message \n",
      "Subject: Warrants on $25 Million Funding \n",
      "Date: Thu, 3 Aug 2000 14:43:47 -0500 \n",
      "MIME-Version: 1.0\n",
      "Content-Type: application/ms-tnef; name=\"winmail.dat\"\n",
      "Content-Transfer-Encoding: binary\n",
      "Message-ID: <3989e793.87BDEEE2@tech.com>\n",
      "X-MS-Has-Attach: \n",
      "X-MS-TNEF-Correlator: <3989e793.87BDEEE2@tech.com> \n",
      "Thread-Topic: Warrants on $25 Million Funding \n",
      "Thread-Index: AcHatCZUSkaLe0ajEdaelQACpYcy8A==\n",
      "From: \"CEO Good_Guy@ibм.com\" <ceo_good_guy@yahoo.com.jp >\n",
      "To: \"Bad_Guy_Broker\" <bad_guy@fund.com\n",
      "Return-Path: CEO Good_Guy@tech.com\n",
      "Received: from mail.tech.com (mail.tech.com [201.10.20.152]) by\n",
      " hedgefund.fund.com (8.11.0/8.11.0) e73MfZ331592; \n",
      "Received: from webmail.tech.com (webmail.tech.com [10.27.30.190]) by\n",
      " mail.tech.com (Switch-2.0.1/Switch- 2.0.1) ; Thu, 3 Aug 2000\n",
      "Received: from tech.com (ostrich.tech.com [10.27.20.190]) by webmail.tech.com\n",
      " (8.8.8+Sun/8.8.8) with ESMTP id RAA01318; Thu, 3 Aug 2000 14:41:31 -0500\n",
      "\n",
      "\n"
     ]
    }
   ],
   "source": [
    "# from email import parser, message_from_string\n",
    "# texts = \"\"\"DKIM-Signature: v=1; a=rsa-sha256; c=relaxed/relaxed; d=yahoo-inc.com; s=yibm; t=1465479679; \n",
    "# To: test@yahoo.com \n",
    "# From: \"Yahoo\" \n",
    "# Reply-To: \"Yahoo\" \n",
    "# X-YMailISG: PCypxycWLDvGv4Bg8ShrtzVYi3vpFMAjYaqWyWybcVJ_ZQff eyquyqb..Qu6UKhX_Tyz5b3da2iDtRStJpVnNulZHOb8GznJQTCKk9sjvboS KsbzY4E1uScWz0Ieo0jjG0YHrB1dTCzOSeMiPNumCCFS1sR3_SkyMBGG_D2D wWtdRducxLa2YgEMMubVpMtNJMBv.bwk0.E.jQNEy8I3LnJEqcDpmIUM7bZL XgkEFz7yl1Zo6Sj4r0z6pGlVIFOql7uG9Bwq2VJoK1Q1upKJUOBfQqzf64y2 9fXLnQsWENpZloxwncGzLhdzEYGgE3xNuFV8QFxZGXyvtKZFoykH49M03URN jtx8Yg6ypjyRbBIRVJGVFbjAvW6io3yeyIFh042jlgYQtLxbneFA60hn9ifT Mit3bQ5l7Tginw0OgRM2cbqLo0tEZFt9vlN597Z3vPGwsVdBcTp9wnk6orj2 TqjEpAmODy3Yru2HzDP7Dbwq9CGaIozUm91VNWqw5Dy7AMQEsuvnBop7Fflk G21m1WKMBgrS.2bOLQ4797E09LjlyyoWI9FouUNNhDljnPPf2AeKUKzauctw ULOQPveWAm4lDsNLMp5yvXDYNIe5HMor84SVd8_xF3Icna1PAftXGzJUHrXK NZSEN_VO0GprGfaNQg4uSW_0wXFXwC6TYQ4CMjz53o0qNGpILogVfRLwFCFL DtW8nimkLLsNzmDajzJsR_juA86Orw2NE5ED4qdpPxmyxyrXYOQPu3O6zeYf 7mBzU0aX7VHJUxJ4L3HdB9qTjbTaCdnySrnjGtd7u9Cn9yRJirDNeg3UA82P PeA1ZDfc0vKdrn5QI6e6YKa2TTt7Dspy3jObgSapH5epc3LyQVyN7yjpxrq_ MXAbpqedjUfcwq3c7lpt8xxUxy.MXWg0fJO059xijvb_sYTaQTGUWAMeVU.6 IW.hSksejwpn._CgE9Kqabbk5qgYIdYRW1pmz5OBYh0skCX1TrFRuxbGvDit R_wr.wbTpJGiSST.b0ZetmgN72bVvlRtmNPw1Dk.zxaacXxhGSMWupPUDLJZ OMrap2ax8oiQrxT3jIhk8seIkaNJ.tGUhlPx6G4lJJaz0g89LmjBaEjGUG8P W3Phh9db3hjxUIX5UC0jg5ai2XZ7u_wXn2Muk61N1eRCZ0oA2S25YDPK1dh. 3VQ6pH8SSBxVkQHUJXbZUNqLAzi5V5wRS7oeitXERGgA2DiZB268.rJxS7di OMT5eGoITG4LnAo1M3nsVQ6xceHDd4v6KD9KfBgTHX_iLUv_skCv4dVUgVvj edKOFiOMHBTpJ9J9BECjTTzEUpc.fCNUcRwSsiSkqbRhUsAdCbxQZir3Nb1Z 6FzI6J2eNqpj4azjmDeI15R8MyN7VFc6bl6pCZySk2Tx5SQESDm.sVkADSVR pI2nuscEjU3xo_qGUxbh5mbAA17K2zYpcFXaOce8_9Eszos5pURCcdtBYUqI I_DOtvNe.zWY1ShRcr9ZzTj3ibmc7NBmvumhVMjqirb12mfJ6oxHv8d86gze HtAJmJghczUg5otSzdxSgEJJxjMZrzSidJ9FP.gPiPWtuukz82YpZ32MnCVs 6.V2DRxpUmZa31KH93QSEzwMlCn3FFTLBv9izcjoFP81yeAn.3QloF8XIC3K WmtXtloyeGjuygAhlkd_prXmMGGC5JmPlY8xu4k1NavkdDh6pG6zIkt83Wsd p.D.0BgM \n",
    "# X-Originating-IP: [75.30.245.45] \n",
    "# Authentication-Results: mta1287.mail.ne1.yahoo.com from=yahoo-inc.com; domainkeys=neutral (no sig); from=yahoo-inc.com; dkim=pass (ok)\n",
    "# X-Apparently-To: test@yahoo.com; Thu, 09 Jun 2016 13:41:21 +0000 \n",
    "# Return-Path: \n",
    "# Received-SPF: pass (domain of yahoo.com designates 72.30.235.45 as permitted sender) \n",
    "# Received: from 127.0.0.1 (EHLO n3-vm9.bullet.mail.bf1.yahoo.com) (72.30.235.45) by mta1287.mail.ne1.yahoo.com with SMTPS; Thu, 09 Jun \n",
    "# 2016 13:41:21 +0000 \n",
    "# \"\"\"\n",
    "texts=\"\"\"content-class: urn:content-classes:message \n",
    "Subject: Warrants on $25 Million Funding \n",
    "Date: Thu, 3 Aug 2000 14:43:47 -0500 \n",
    "MIME-Version: 1.0\n",
    "Content-Type: application/ms-tnef; name=\"winmail.dat\"\n",
    "Content-Transfer-Encoding: binary\n",
    "Message-ID: <3989e793.87BDEEE2@tech.com>\n",
    "X-MS-Has-Attach:\n",
    "X-MS-TNEF-Correlator: <3989e793.87BDEEE2@tech.com> \n",
    "Thread-Topic: Warrants on $25 Million Funding \n",
    "Thread-Index: AcHatCZUSkaLe0ajEdaelQACpYcy8A==\n",
    "From: \"CEO Good_Guy@ibм.com\" <ceo_good_guy@yahoo.com.jp >\n",
    "To: \"Bad_Guy_Broker\" <bad_guy@fund.com\n",
    "Return-Path: CEO Good_Guy@tech.com\n",
    "Received: from mail.tech.com (mail.tech.com [201.10.20.152]) by hedgefund.fund.com (8.11.0/8.11.0) e73MfZ331592;\n",
    "Received: from webmail.tech.com (webmail.tech.com [10.27.30.190]) by mail.tech.com (Switch-2.0.1/Switch- 2.0.1)     ; Thu, 3 Aug 2000\n",
    "Received: from tech.com (ostrich.tech.com [10.27.20.190]) by webmail.tech.com (8.8.8+Sun/8.8.8) with ESMTP id RAA01318; Thu, 3 Aug 2000 14:41:31 -0500\n",
    "\"\"\"\n",
    "# msg = message_from_string(headers)\n",
    "# print(msg.keys())\n",
    "headers = parser.Parser().parsestr(texts, headersonly=True)\n",
    "# for key in headers.keys():\n",
    "print (headers)"
   ]
  },
  {
   "cell_type": "markdown",
   "metadata": {},
   "source": [
    "# Read in selected lists of brand names and phishing words"
   ]
  },
  {
   "cell_type": "code",
   "execution_count": 69,
   "metadata": {},
   "outputs": [
    {
     "name": "stdout",
     "output_type": "stream",
     "text": [
      "/Users/emoryshyong/Documents/PyCharm/project/dnstwist\n",
      "['apple', 'google', 'microsoft', 'facebook', 'coco-cola', 'amazon', 'disney', 'toyota', 'mcdonalds', 'samsung', 'ge', 'att', 'ibm', 'intel', 'nike', 'cisco', 'mercedes-benz', 'oracle', 'verizon', 'louisvuitton', 'bmw', 'budweiser', 'americanexpress', 'walmart', 'marlboro', 'honda', 'sap', 'visa', 'gillette', 'pepsi', 'nescafe', 'espn', 'loreal', 'homedepot', 'hm', 'starbuck', 'audi', 'accenture', 'ford', 'fritolay', 'ikea', 'hp', 'wellsfargo', 'hermes', 'ups', 'cvs', 'guuci', 'pamper', 'siemens', 'hsbc', 'zara', 'mastercard', 'jpmorgan', 'nestle', 'eBay', 'fox', 'chevrolet', 'danone', 'colgate', 'porsche', 'cartier', 'citi', 'kraft', 'lexus', 'chase', 'banksofamerica', 'nissan', 'hyundai', 'rolex', 'redbull', 'netflix', 'kellog', 'sony', 'santander', 'adidas', 'lego', 'basf', 'heineken', 't-mobile', 'bbva', 'corona', 'caterpillar', 'fedex', 'adobe', 'goldmansachs', 'lowes', 'channel', 'huawei', 'target', 'phillips', 'boeing', 'subway', 'westernunion']\n",
      "['account', 'secur', 'verif', 'com-', 'support', 'update', 'service', 'login', 'auth', 'confirm', 'fund']\n"
     ]
    }
   ],
   "source": [
    "target_brands = []\n",
    "phish_words = []\n",
    "\n",
    "print (os.getcwd())\n",
    "with open(os.getcwd() + \"/data/brands.txt\") as fh:\n",
    "    for line in fh:\n",
    "        name = line.strip().translate(None, string.whitespace)\n",
    "        name_fuzz = os.getcwd() + \"/data/\" + name + \".fuzz\"\n",
    "        target_brands.append(name)\n",
    "        if not os.path.isfile(name_fuzz):\n",
    "            fuzz = dnstwist.DomainFuzz(name+\".com\")\n",
    "            fuzz.generate()\n",
    "            with open(name_fuzz, 'w') as wf:\n",
    "                for domain in fuzz.domains:\n",
    "                    wf.write(domain['domain-name'].encode('utf-8')+'\\n')\n",
    "        \n",
    "with open(os.getcwd() + \"/data/phish_words.txt\") as fh:\n",
    "    for line in fh:\n",
    "        phish_words.append(line.strip().encode('utf-8'))\n",
    "\n",
    "print target_brands\n",
    "print phish_words"
   ]
  },
  {
   "cell_type": "markdown",
   "metadata": {},
   "source": [
    "# Check suspicousness by the subject line "
   ]
  },
  {
   "cell_type": "code",
   "execution_count": 70,
   "metadata": {},
   "outputs": [
    {
     "name": "stdout",
     "output_type": "stream",
     "text": [
      "['Warrants', 'on', '$25', 'Million', 'Funding']\n",
      "Subject line is suspicous\n"
     ]
    }
   ],
   "source": [
    "subject_line = headers['Subject']\n",
    "ss = subject_line.split()\n",
    "print (ss)\n",
    "suspicious_subject = False\n",
    "for s in ss:\n",
    "    s = s.lower()\n",
    "    if s in target_brands:\n",
    "        suspicious_subject = True\n",
    "        break\n",
    "    else:\n",
    "        for w in phish_words:\n",
    "            if w in s:\n",
    "                suspicious_subject = True\n",
    "                break\n",
    "if suspicious_subject:\n",
    "    print ('Subject line is suspicous')\n"
   ]
  },
  {
   "cell_type": "markdown",
   "metadata": {},
   "source": [
    "# Check suspicousness by sender's email"
   ]
  },
  {
   "cell_type": "code",
   "execution_count": 71,
   "metadata": {},
   "outputs": [
    {
     "name": "stdout",
     "output_type": "stream",
     "text": [
      "\"CEO Good_Guy@ibм.com\" <ceo_good_guy@yahoo.com.jp >\n",
      "[u'Good_Guy@ib\\u043c.com', u'ceo_good_guy@yahoo.com.jp']\n",
      "Sender has two different email identities\n"
     ]
    }
   ],
   "source": [
    "from_email = headers['From']\n",
    "print (from_email)\n",
    "email_parsed = parse_email(from_email)\n",
    "print (email_parsed)\n",
    "\n",
    "suspicious_sender = False\n",
    "if len(set(email_parsed)) > 1:\n",
    "    suspicious_sender = True\n",
    "if suspicious_sender:\n",
    "    print ('Sender has two different email identities')\n",
    "    \n",
    "delchars = ''.join(c for c in map(chr, range(256)) if not c.isalnum())\n",
    "# python 3\n",
    "# scrunched = from_email.translate({ord(c):'' for c in delchars})\n",
    "# python 2\n",
    "scrunched = from_email.translate(None, delchars)\n",
    "scrunched = scrunched.lower()\n",
    "# print (scrunched)\n",
    "suspicious_name = False\n",
    "for b in target_brands:\n",
    "    if b in scrunched:\n",
    "        suspicious_name = True\n",
    "        break\n",
    "if not suspicious_name:\n",
    "    for w in phish_words:\n",
    "        if w in scrunched:\n",
    "            suspicious_name = True\n",
    "            break\n",
    "if suspicious_name:\n",
    "    print('Name of business was one of the most targeted companies')"
   ]
  },
  {
   "cell_type": "markdown",
   "metadata": {},
   "source": [
    "# Identify Legitimate Email Host Domains "
   ]
  },
  {
   "cell_type": "code",
   "execution_count": 76,
   "metadata": {},
   "outputs": [
    {
     "name": "stdout",
     "output_type": "stream",
     "text": [
      "Good_Guy@ibм.com\n",
      "ibм.com is a spoof of ibm.com\n",
      "ibм.com is not a legitimate Top Level Domain\n",
      "ceo_good_guy@yahoo.com.jp\n",
      "yahoo.com.jp is not a legitimate Top Level Domain\n"
     ]
    }
   ],
   "source": [
    "# myregex = r'(?:[a-zA-Z0-9](?:[a-zA-Z0-9\\-]{,61}[a-zA-Z0-9])?\\.)+[a-zA-Z]{2,6}'\n",
    "myregex = r'(?:[(\\w+)](?:[(\\w+)\\-]{,61}[(\\w+)])?\\.)+[a-zA-Z]{2,6}'\n",
    "sender_domains = []\n",
    "suspicous_email_domain = False\n",
    "for email in email_parsed:\n",
    "    print email\n",
    "    domains = re.findall(myregex, email, re.UNICODE)\n",
    "    for domain in domains:\n",
    "        # print domain\n",
    "        flag, target = is_domain_spoofed(target_brands, domain)\n",
    "        if flag:\n",
    "            print ('{0} is a spoof of {1}'.format(domain.encode('utf-8'), target.strip()))\n",
    "        flag = is_domain_legit(domain)\n",
    "        if flag:\n",
    "            print ('{} is a legitimate Top Level Domain'.format(domain.encode('utf-8')))\n",
    "        else:\n",
    "            print ('{} is not a legitimate Top Level Domain'.format(domain.encode('utf-8')))\n",
    "        if flag:\n",
    "            details = whois.query(domain)\n",
    "#             print (details.__dict__)\n",
    "#             print ('Name is {}'.format(details.name))\n",
    "            print ('Registrar is {}'.format(details.registrar))\n",
    "#             print ('Creation_date is {}'.format(details.creation_date))\n",
    "#             print ('Expiration_date is {}'.format(details.expiration_date))\n",
    "#             print ('Updated_date is {}'.format(details.last_updated))\n",
    "        else:\n",
    "            suspicous_email_domain = True\n"
   ]
  },
  {
   "cell_type": "markdown",
   "metadata": {},
   "source": [
    "# Identify Legitimate Received Host Domains"
   ]
  },
  {
   "cell_type": "code",
   "execution_count": 77,
   "metadata": {},
   "outputs": [
    {
     "name": "stdout",
     "output_type": "stream",
     "text": [
      "tech.com of mail.tech.com is a legitimate Top Level Domain\n",
      "Registrar is Network Solutions, LLC.\n",
      "tech.com of (mail.tech.com is a legitimate Top Level Domain\n",
      "Registrar is Network Solutions, LLC.\n",
      "fund.com of hedgefund.fund.com is a legitimate Top Level Domain\n",
      "Registrar is DNC Holdings, Inc.\n"
     ]
    }
   ],
   "source": [
    "received_email_servers = headers['Received']\n",
    "myregex = r'(?:[(\\w+)](?:[(\\w+)\\-]{,61}[(\\w+)])?\\.)+[a-zA-Z]{2,6}'\n",
    "# print (received_email_servers)\n",
    "suspicous_received_domain = False\n",
    "received_domains = re.findall(myregex, received_email_servers, re.UNICODE)\n",
    "received_domains = set(received_domains)\n",
    "# print (received_domains)\n",
    "for domain in received_domains:\n",
    "    flag = is_domain_legit(domain)\n",
    "    if flag:\n",
    "        details = whois.query(domain)\n",
    "        print ('{0} of {1} is a legitimate Top Level Domain'.format(details.name, domain)) \n",
    "#         print (details.__dict__)\n",
    "#         print ('Name is {}'.format(details.name))\n",
    "        print ('Registrar is {}'.format(details.registrar))\n",
    "#         print ('Creation_date is {}'.format(details.creation_date))\n",
    "#         print ('Expiration_date is {}'.format(details.expiration_date))\n",
    "#         print ('Updated_date is {}'.format(details.last_updated))\n",
    "    else:\n",
    "        suspicous_received_domain = True\n",
    "        print ('{} does not contain a legitimate Top Level Domain'.format(domain))"
   ]
  },
  {
   "cell_type": "markdown",
   "metadata": {},
   "source": [
    "# Identify Top Level Domain"
   ]
  },
  {
   "cell_type": "code",
   "execution_count": null,
   "metadata": {},
   "outputs": [],
   "source": [
    "from tld import get_tld\n",
    "from dns import resolver\n",
    "res = get_tld(\"http://www.yahoo.co.jp\", as_object=True)\n",
    "print (res)\n",
    "print (res.domain)\n",
    "print (res.subdomain)\n",
    "print (res.tld)\n",
    "print (res.suffix)"
   ]
  },
  {
   "cell_type": "markdown",
   "metadata": {},
   "source": [
    "# Collect Hostname Details by WHOIS"
   ]
  },
  {
   "cell_type": "code",
   "execution_count": 34,
   "metadata": {},
   "outputs": [
    {
     "name": "stdout",
     "output_type": "stream",
     "text": [
      "google.com MarkMonitor Inc. 1997-09-15 04:00:00 2020-09-13 21:00:00-07:00\n",
      "{'ns1.google.com\\r', 'ns3.google.com', 'ns2.google.com\\r', 'ns4.google.com', 'ns2.google.com', 'ns4.google.com\\r', 'ns3.google.com\\r', 'ns1.google.com'}\n",
      "stackoverflow.com Name.com, Inc. 2003-12-26 19:18:07 2019-02-02 11:59:59\n",
      "{'ns-cloud-e2.googledomains.com\\r', 'ns-cloud-e1.googledomains.com', 'ns-358.awsdns-44.com\\r', 'ns-cloud-e1.googledomains.com\\r', 'ns-1033.awsdns-01.org', 'ns-358.awsdns-44.com', 'ns-cloud-e2.googledomains.com', 'ns-1033.awsdns-01.org\\r'}\n",
      "clearedin.com Google Inc. 2017-08-08 15:12:38 2018-08-08 15:12:38\n",
      "{'ns-1789.awsdns-31.co.uk\\r', 'ns-733.awsdns-27.net', 'ns-1159.awsdns-16.org\\r', 'ns-733.awsdns-27.net\\r', 'ns-1789.awsdns-31.co.uk', 'ns-1159.awsdns-16.org', 'ns-452.awsdns-56.com\\r', 'ns-452.awsdns-56.com'}\n",
      "expediamail.com CSC Corporate Domains, Inc. 2003-12-06 19:16:08 2019-12-06 19:16:08\n",
      "{'pdns2.ultradns.net', 'pdns5.ultradns.info', 'pdns4.ultradns.org\\r', 'pdns6.ultradns.co.uk', 'pdns6.ultradns.co.uk\\r', 'pdns3.ultradns.org', 'pdns1.ultradns.net', 'pdns3.ultradns.org\\r', 'pdns1.ultradns.net\\r', 'pdns5.ultradns.info\\r', 'pdns2.ultradns.net\\r', 'pdns4.ultradns.org'}\n"
     ]
    }
   ],
   "source": [
    "# import whois\n",
    "domains = ['google.com', 'stackoverflow.com', 'clearedin.com', 'expediamail.com']\n",
    "for domain in domains:\n",
    "    details = whois.query(domain)\n",
    "    print (details.name, details.registrar, details.creation_date, details.expiration_date)\n",
    "    print (details.name_servers)"
   ]
  },
  {
   "cell_type": "markdown",
   "metadata": {},
   "source": [
    "# Collect Hostname Details by PYTHONWHOIS"
   ]
  },
  {
   "cell_type": "code",
   "execution_count": null,
   "metadata": {},
   "outputs": [],
   "source": [
    "import pythonwhois\n",
    "domains = ['google.com', 'stackoverflow.com', 'clearedin.com']\n",
    "for dom in domains:\n",
    "    details = pythonwhois.get_whois(dom)\n",
    "    print (details['status'])"
   ]
  },
  {
   "cell_type": "code",
   "execution_count": null,
   "metadata": {},
   "outputs": [],
   "source": []
  }
 ],
 "metadata": {
  "kernelspec": {
   "display_name": "Python 2",
   "language": "python",
   "name": "python2"
  },
  "language_info": {
   "codemirror_mode": {
    "name": "ipython",
    "version": 2
   },
   "file_extension": ".py",
   "mimetype": "text/x-python",
   "name": "python",
   "nbconvert_exporter": "python",
   "pygments_lexer": "ipython2",
   "version": "2.7.14"
  }
 },
 "nbformat": 4,
 "nbformat_minor": 1
}
